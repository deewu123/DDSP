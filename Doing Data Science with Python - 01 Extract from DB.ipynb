{
 "cells": [
  {
   "cell_type": "markdown",
   "id": "b0e8b860",
   "metadata": {},
   "source": [
    "# import package"
   ]
  },
  {
   "cell_type": "code",
   "execution_count": 1,
   "id": "ac217484",
   "metadata": {},
   "outputs": [],
   "source": [
    "# import sqlite3 package\n",
    "import sqlite3"
   ]
  },
  {
   "cell_type": "markdown",
   "id": "215da1fa",
   "metadata": {},
   "source": [
    "# connect to database"
   ]
  },
  {
   "cell_type": "code",
   "execution_count": 2,
   "id": "2bd356f8",
   "metadata": {},
   "outputs": [],
   "source": [
    "# create a connection\n",
    "connection = sqlite3.connect(\"classroomDB.db\")\n",
    "connection.close()"
   ]
  },
  {
   "cell_type": "code",
   "execution_count": 3,
   "id": "2b3329af",
   "metadata": {},
   "outputs": [],
   "source": [
    "# open connection\n",
    "connection = sqlite3.connect(\"classroomDB.db\")\n",
    "cursor = connection.cursor()\n",
    "create_table = \"\"\"\n",
    "    CREATE TABLE classroom (\n",
    "    student_id INTEGER PRIMARY KEY,\n",
    "    name VARCHAR(20),\n",
    "    gender CHAR(1),\n",
    "    physics_marks INTEGER,\n",
    "    chemistry_marks INTEGER,\n",
    "    mathematics_marks INTEGER \n",
    "    );\"\"\"\n",
    "cursor.execute(create_table)\n",
    "connection.commit()\n",
    "connection.close()"
   ]
  },
  {
   "cell_type": "markdown",
   "id": "2f4d4253",
   "metadata": {},
   "source": [
    "# insert data"
   ]
  },
  {
   "cell_type": "code",
   "execution_count": 4,
   "id": "91378e2a",
   "metadata": {},
   "outputs": [],
   "source": [
    "classroom_data = [(1,\"Raj\",\"M\",70,84,92),\n",
    "                 (2, \"Poonam\", \"F\", 87, 69, 93),\n",
    "                 (3, \"Nik\", \"M\", 65, 83, 90),\n",
    "                 (4, \"Rahul\", \"F\", 83, 76, 89)]\n",
    "connection = sqlite3.connect(\"classroomDB.db\")\n",
    "cursor = connection.cursor()\n",
    "for student in classroom_data:\n",
    "    insert_statement = \"\"\"INSERT INTO classroom\n",
    "        (student_id, name, gender, physics_marks, chemistry_marks, mathematics_marks)\n",
    "        VALUES\n",
    "        ({0},\"{1}\",\"{2}\",{3},{4},{5});\"\"\".format(student[0],student[1],student[2],student[3],student[4],student[5])\n",
    "    cursor.execute(insert_statement)\n",
    "connection.commit()\n",
    "connection.close()"
   ]
  },
  {
   "cell_type": "markdown",
   "id": "8e3ac5ae",
   "metadata": {},
   "source": [
    "# extract data"
   ]
  },
  {
   "cell_type": "code",
   "execution_count": 5,
   "id": "c7011e6c",
   "metadata": {},
   "outputs": [
    {
     "name": "stdout",
     "output_type": "stream",
     "text": [
      "(1, 'Raj', 'M', 70, 84, 92)\n",
      "(2, 'Poonam', 'F', 87, 69, 93)\n",
      "(3, 'Nik', 'M', 65, 83, 90)\n",
      "(4, 'Rahul', 'F', 83, 76, 89)\n"
     ]
    }
   ],
   "source": [
    "connection = sqlite3.connect(\"classroomDB.db\")\n",
    "cursor = connection.cursor()\n",
    "query = \"SELECT * FROM classroom\"\n",
    "cursor.execute(query)\n",
    "result = cursor.fetchall()\n",
    "for row in result:\n",
    "    print(row)\n",
    "connection.close()"
   ]
  },
  {
   "cell_type": "markdown",
   "id": "2155a48a",
   "metadata": {},
   "source": [
    "# MySQL database"
   ]
  },
  {
   "cell_type": "code",
   "execution_count": 8,
   "id": "6b390304",
   "metadata": {},
   "outputs": [
    {
     "name": "stdout",
     "output_type": "stream",
     "text": [
      "Collecting pymysql\n",
      "  Downloading PyMySQL-1.0.2-py3-none-any.whl (43 kB)\n",
      "Installing collected packages: pymysql\n",
      "Successfully installed pymysql-1.0.2\n"
     ]
    }
   ],
   "source": [
    "!pip install pymysql\n"
   ]
  },
  {
   "cell_type": "code",
   "execution_count": 9,
   "id": "7f2afbcf",
   "metadata": {},
   "outputs": [],
   "source": [
    "import pymysql"
   ]
  },
  {
   "cell_type": "code",
   "execution_count": 18,
   "id": "854e3dea",
   "metadata": {},
   "outputs": [],
   "source": [
    "hostname = 'localhost'\n",
    "username = 'root'\n",
    "password = ''\n",
    "database = 'classroomDB'\n",
    "\n",
    "connection = pymysql.connect( host=hostname, user=username, passwd=password, db=database )\n",
    "connection.close()"
   ]
  },
  {
   "cell_type": "code",
   "execution_count": 19,
   "id": "70149d47",
   "metadata": {},
   "outputs": [],
   "source": [
    "cnx={'host':'localhost',\n",
    "    'username':'root',\n",
    "    'password':'',\n",
    "    'db':'classroomDB'}\n",
    "connection = pymysql.connect( host=cnx['host'], user=cnx['username'], passwd=cnx['password'], db=cnx['db'] )"
   ]
  },
  {
   "cell_type": "code",
   "execution_count": 20,
   "id": "16f7b29b",
   "metadata": {},
   "outputs": [],
   "source": [
    "cursor=connection.cursor()\n",
    "create_table = \"\"\"\n",
    "    CREATE TABLE classroom (\n",
    "    student_id INTEGER PRIMARY KEY,\n",
    "    name VARCHAR(20),\n",
    "    gender CHAR(1),\n",
    "    physics_marks INTEGER,\n",
    "    chemistry_marks INTEGER,\n",
    "    mathematics_marks INTEGER \n",
    "    );\"\"\"\n",
    "cursor.execute(create_table)\n",
    "connection.commit()\n",
    "connection.close()"
   ]
  },
  {
   "cell_type": "code",
   "execution_count": 23,
   "id": "8ae09c86",
   "metadata": {},
   "outputs": [],
   "source": [
    "classroom_data = [(1,\"Raj\",\"M\",70,84,92),\n",
    "                 (2, \"Poonam\", \"F\", 87, 69, 93),\n",
    "                 (3, \"Nik\", \"M\", 65, 83, 90),\n",
    "                 (4, \"Rahul\", \"F\", 83, 76, 89)]\n",
    "connection = pymysql.connect( host=cnx['host'], user=cnx['username'], passwd=cnx['password'], db=cnx['db'] )\n",
    "cursor = connection.cursor()\n",
    "for student in classroom_data:\n",
    "    insert_statement = \"\"\"INSERT INTO classroom\n",
    "        (student_id, name, gender, physics_marks, chemistry_marks, mathematics_marks)\n",
    "        VALUES\n",
    "        ({0},\"{1}\",\"{2}\",{3},{4},{5});\"\"\".format(student[0],student[1],student[2],student[3],student[4],student[5])\n",
    "    cursor.execute(insert_statement)\n",
    "connection.commit()\n",
    "connection.close()"
   ]
  },
  {
   "cell_type": "code",
   "execution_count": 24,
   "id": "c7cc6394",
   "metadata": {},
   "outputs": [
    {
     "name": "stdout",
     "output_type": "stream",
     "text": [
      "(1, 'Raj', 'M', 70, 84, 92)\n",
      "(2, 'Poonam', 'F', 87, 69, 93)\n",
      "(3, 'Nik', 'M', 65, 83, 90)\n",
      "(4, 'Rahul', 'F', 83, 76, 89)\n"
     ]
    }
   ],
   "source": [
    "connection = pymysql.connect( host=cnx['host'], user=cnx['username'], passwd=cnx['password'], db=cnx['db'] )\n",
    "cursor=connection.cursor()\n",
    "query=\"SELECT * FROM classroom\"\n",
    "cursor.execute(query)\n",
    "result=cursor.fetchall()\n",
    "for row in result:\n",
    "    print(row)\n",
    "connection.close()"
   ]
  },
  {
   "cell_type": "markdown",
   "id": "0002ae47",
   "metadata": {},
   "source": [
    "# Microsoft SQL Server Database"
   ]
  },
  {
   "cell_type": "code",
   "execution_count": 27,
   "id": "08fc9ab9",
   "metadata": {},
   "outputs": [
    {
     "name": "stdout",
     "output_type": "stream",
     "text": [
      "Collecting pymssql\n",
      "  Downloading pymssql-2.2.1-cp39-cp39-win_amd64.whl (1.5 MB)\n",
      "Installing collected packages: pymssql\n",
      "Successfully installed pymssql-2.2.1\n"
     ]
    }
   ],
   "source": [
    "!pip install pymssql"
   ]
  },
  {
   "cell_type": "code",
   "execution_count": 2,
   "id": "37bef699",
   "metadata": {},
   "outputs": [],
   "source": [
    "import pymssql"
   ]
  },
  {
   "cell_type": "code",
   "execution_count": 8,
   "id": "1ce202fb",
   "metadata": {},
   "outputs": [],
   "source": [
    "cnx={'host':'mssqldbtest.database.windows.net',\n",
    "    'username':'test',\n",
    "    'password':'Sisi7229$#',\n",
    "    'db':'classroomDB'}\n",
    "connection = pymssql.connect(server=cnx['host'], user=cnx['username'], password=cnx['password'], database=cnx['db'])  \n",
    " \n"
   ]
  },
  {
   "cell_type": "code",
   "execution_count": 11,
   "id": "7e3d613f",
   "metadata": {},
   "outputs": [],
   "source": [
    "classroom_data = [(1,'Raj','M',70,84,92),\n",
    "                 (2, 'Poonam', 'F', 87, 69, 93),\n",
    "                 (3, 'Nik', 'M', 65, 83, 90),\n",
    "                 (4, 'Rahul', 'F', 83, 76, 89)]\n",
    "connection = pymssql.connect(server=cnx['host'], user=cnx['username'], password=cnx['password'], database=cnx['db'])  \n",
    "cursor = connection.cursor()\n",
    "for student in classroom_data:\n",
    "    insert_statement = \"\"\"INSERT INTO classroom\n",
    "        (student_id, name, gender, physics_marks, chemistry_marks, mathematics_marks)\n",
    "        VALUES\n",
    "        ({0},'{1}','{2}',{3},{4},{5});\"\"\".format(student[0],student[1],student[2],student[3],student[4],student[5])\n",
    "    cursor.execute(insert_statement)\n",
    "connection.commit()\n",
    "connection.close()"
   ]
  },
  {
   "cell_type": "code",
   "execution_count": 12,
   "id": "21b2eb59",
   "metadata": {},
   "outputs": [
    {
     "name": "stdout",
     "output_type": "stream",
     "text": [
      "(1, 'Raj', 'M', 70, 84, 92)\n",
      "(2, 'Poonam', 'F', 87, 69, 93)\n",
      "(3, 'Nik', 'M', 65, 83, 90)\n",
      "(4, 'Rahul', 'F', 83, 76, 89)\n"
     ]
    }
   ],
   "source": [
    "connection = pymssql.connect(server=cnx['host'], user=cnx['username'], password=cnx['password'], database=cnx['db'])  \n",
    "cursor=connection.cursor()\n",
    "query=\"SELECT * FROM classroom\"\n",
    "cursor.execute(query)\n",
    "result=cursor.fetchall()\n",
    "for row in result:\n",
    "    print(row)\n",
    "connection.close()"
   ]
  },
  {
   "cell_type": "code",
   "execution_count": null,
   "id": "c926b003",
   "metadata": {},
   "outputs": [],
   "source": []
  }
 ],
 "metadata": {
  "kernelspec": {
   "display_name": "Python 3",
   "language": "python",
   "name": "python3"
  },
  "language_info": {
   "codemirror_mode": {
    "name": "ipython",
    "version": 3
   },
   "file_extension": ".py",
   "mimetype": "text/x-python",
   "name": "python",
   "nbconvert_exporter": "python",
   "pygments_lexer": "ipython3",
   "version": "3.9.4"
  }
 },
 "nbformat": 4,
 "nbformat_minor": 5
}
